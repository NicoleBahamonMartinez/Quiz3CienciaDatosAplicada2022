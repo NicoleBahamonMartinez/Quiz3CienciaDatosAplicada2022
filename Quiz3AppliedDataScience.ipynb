{
  "cells": [
    {
      "cell_type": "markdown",
      "metadata": {
        "id": "view-in-github",
        "colab_type": "text"
      },
      "source": [
        "<a href=\"https://colab.research.google.com/github/NicoleBahamonMartinez/Quiz3CienciaDatosAplicada2022/blob/main/Quiz3AppliedDataScience.ipynb\" target=\"_parent\"><img src=\"https://colab.research.google.com/assets/colab-badge.svg\" alt=\"Open In Colab\"/></a>"
      ]
    },
    {
      "cell_type": "markdown",
      "metadata": {
        "id": "QIp9X-FUxOVp"
      },
      "source": [
        "<a href=\"https://colab.research.google.com/github/datascience-uniandes/linear-regression-tutorial/blob/master/forestfires.ipynb\" target=\"_parent\"><img src=\"https://colab.research.google.com/assets/colab-badge.svg\" alt=\"Open In Colab\"/></a>"
      ]
    },
    {
      "cell_type": "markdown",
      "metadata": {
        "id": "NyqcHE1FxOVu"
      },
      "source": [
        "\n",
        "\n",
        "# MINE-4101: Applied Data Science  \n",
        "\n",
        "# Quiz 3 - Regresión\n",
        "\n",
        "Nicole Bahamón Martínez 201629594\n"
      ]
    },
    {
      "cell_type": "code",
      "execution_count": null,
      "metadata": {
        "id": "YLDfHceixOVw"
      },
      "outputs": [],
      "source": [
        "import numpy as np\n",
        "import pandas as pd\n",
        "\n",
        "from sklearn.model_selection import train_test_split\n",
        "from sklearn.preprocessing import StandardScaler\n",
        "from sklearn.linear_model import LinearRegression\n",
        "from sklearn.metrics import mean_squared_error, mean_absolute_error\n",
        "\n",
        "import matplotlib.pyplot as plt\n",
        "import seaborn as sns\n",
        "\n",
        "from pandas_profiling import ProfileReport"
      ]
    },
    {
      "cell_type": "markdown",
      "metadata": {
        "id": "2DyL81VGxOVx"
      },
      "source": [
        "### Reading the dataset"
      ]
    },
    {
      "cell_type": "code",
      "execution_count": null,
      "metadata": {
        "id": "9_Rx9zuIxOVy"
      },
      "outputs": [],
      "source": [
        "forest_df = pd.read_csv('/content/insurance.csv', sep = ',')"
      ]
    },
    {
      "cell_type": "code",
      "execution_count": null,
      "metadata": {
        "id": "9iA-3y1MxOVy",
        "outputId": "ddb54dcc-9600-4e43-967b-1df403f5b33a",
        "colab": {
          "base_uri": "https://localhost:8080/"
        }
      },
      "outputs": [
        {
          "output_type": "execute_result",
          "data": {
            "text/plain": [
              "(1338, 7)"
            ]
          },
          "metadata": {},
          "execution_count": 21
        }
      ],
      "source": [
        "forest_df.shape"
      ]
    },
    {
      "cell_type": "code",
      "execution_count": null,
      "metadata": {
        "id": "Vh7XHJbnxOVz",
        "outputId": "e201124d-d2b5-49a9-89f2-62157d289577",
        "colab": {
          "base_uri": "https://localhost:8080/"
        }
      },
      "outputs": [
        {
          "output_type": "execute_result",
          "data": {
            "text/plain": [
              "age           int64\n",
              "sex          object\n",
              "bmi         float64\n",
              "children      int64\n",
              "smoker       object\n",
              "region       object\n",
              "charges     float64\n",
              "dtype: object"
            ]
          },
          "metadata": {},
          "execution_count": 22
        }
      ],
      "source": [
        "forest_df.dtypes"
      ]
    },
    {
      "cell_type": "code",
      "execution_count": null,
      "metadata": {
        "id": "pTgCyM_9xOVz",
        "outputId": "6ebe8bcd-1da4-4b02-ba17-d0c39f517462",
        "colab": {
          "base_uri": "https://localhost:8080/",
          "height": 206
        }
      },
      "outputs": [
        {
          "output_type": "execute_result",
          "data": {
            "text/plain": [
              "   age     sex     bmi  children smoker     region      charges\n",
              "0   19  female  27.900         0    yes  southwest  16884.92400\n",
              "1   18    male  33.770         1     no  southeast   1725.55230\n",
              "2   28    male  33.000         3     no  southeast   4449.46200\n",
              "3   33    male  22.705         0     no  northwest  21984.47061\n",
              "4   32    male  28.880         0     no  northwest   3866.85520"
            ],
            "text/html": [
              "\n",
              "  <div id=\"df-9249f2bc-00a8-4df4-8465-00b5b434e554\">\n",
              "    <div class=\"colab-df-container\">\n",
              "      <div>\n",
              "<style scoped>\n",
              "    .dataframe tbody tr th:only-of-type {\n",
              "        vertical-align: middle;\n",
              "    }\n",
              "\n",
              "    .dataframe tbody tr th {\n",
              "        vertical-align: top;\n",
              "    }\n",
              "\n",
              "    .dataframe thead th {\n",
              "        text-align: right;\n",
              "    }\n",
              "</style>\n",
              "<table border=\"1\" class=\"dataframe\">\n",
              "  <thead>\n",
              "    <tr style=\"text-align: right;\">\n",
              "      <th></th>\n",
              "      <th>age</th>\n",
              "      <th>sex</th>\n",
              "      <th>bmi</th>\n",
              "      <th>children</th>\n",
              "      <th>smoker</th>\n",
              "      <th>region</th>\n",
              "      <th>charges</th>\n",
              "    </tr>\n",
              "  </thead>\n",
              "  <tbody>\n",
              "    <tr>\n",
              "      <th>0</th>\n",
              "      <td>19</td>\n",
              "      <td>female</td>\n",
              "      <td>27.900</td>\n",
              "      <td>0</td>\n",
              "      <td>yes</td>\n",
              "      <td>southwest</td>\n",
              "      <td>16884.92400</td>\n",
              "    </tr>\n",
              "    <tr>\n",
              "      <th>1</th>\n",
              "      <td>18</td>\n",
              "      <td>male</td>\n",
              "      <td>33.770</td>\n",
              "      <td>1</td>\n",
              "      <td>no</td>\n",
              "      <td>southeast</td>\n",
              "      <td>1725.55230</td>\n",
              "    </tr>\n",
              "    <tr>\n",
              "      <th>2</th>\n",
              "      <td>28</td>\n",
              "      <td>male</td>\n",
              "      <td>33.000</td>\n",
              "      <td>3</td>\n",
              "      <td>no</td>\n",
              "      <td>southeast</td>\n",
              "      <td>4449.46200</td>\n",
              "    </tr>\n",
              "    <tr>\n",
              "      <th>3</th>\n",
              "      <td>33</td>\n",
              "      <td>male</td>\n",
              "      <td>22.705</td>\n",
              "      <td>0</td>\n",
              "      <td>no</td>\n",
              "      <td>northwest</td>\n",
              "      <td>21984.47061</td>\n",
              "    </tr>\n",
              "    <tr>\n",
              "      <th>4</th>\n",
              "      <td>32</td>\n",
              "      <td>male</td>\n",
              "      <td>28.880</td>\n",
              "      <td>0</td>\n",
              "      <td>no</td>\n",
              "      <td>northwest</td>\n",
              "      <td>3866.85520</td>\n",
              "    </tr>\n",
              "  </tbody>\n",
              "</table>\n",
              "</div>\n",
              "      <button class=\"colab-df-convert\" onclick=\"convertToInteractive('df-9249f2bc-00a8-4df4-8465-00b5b434e554')\"\n",
              "              title=\"Convert this dataframe to an interactive table.\"\n",
              "              style=\"display:none;\">\n",
              "        \n",
              "  <svg xmlns=\"http://www.w3.org/2000/svg\" height=\"24px\"viewBox=\"0 0 24 24\"\n",
              "       width=\"24px\">\n",
              "    <path d=\"M0 0h24v24H0V0z\" fill=\"none\"/>\n",
              "    <path d=\"M18.56 5.44l.94 2.06.94-2.06 2.06-.94-2.06-.94-.94-2.06-.94 2.06-2.06.94zm-11 1L8.5 8.5l.94-2.06 2.06-.94-2.06-.94L8.5 2.5l-.94 2.06-2.06.94zm10 10l.94 2.06.94-2.06 2.06-.94-2.06-.94-.94-2.06-.94 2.06-2.06.94z\"/><path d=\"M17.41 7.96l-1.37-1.37c-.4-.4-.92-.59-1.43-.59-.52 0-1.04.2-1.43.59L10.3 9.45l-7.72 7.72c-.78.78-.78 2.05 0 2.83L4 21.41c.39.39.9.59 1.41.59.51 0 1.02-.2 1.41-.59l7.78-7.78 2.81-2.81c.8-.78.8-2.07 0-2.86zM5.41 20L4 18.59l7.72-7.72 1.47 1.35L5.41 20z\"/>\n",
              "  </svg>\n",
              "      </button>\n",
              "      \n",
              "  <style>\n",
              "    .colab-df-container {\n",
              "      display:flex;\n",
              "      flex-wrap:wrap;\n",
              "      gap: 12px;\n",
              "    }\n",
              "\n",
              "    .colab-df-convert {\n",
              "      background-color: #E8F0FE;\n",
              "      border: none;\n",
              "      border-radius: 50%;\n",
              "      cursor: pointer;\n",
              "      display: none;\n",
              "      fill: #1967D2;\n",
              "      height: 32px;\n",
              "      padding: 0 0 0 0;\n",
              "      width: 32px;\n",
              "    }\n",
              "\n",
              "    .colab-df-convert:hover {\n",
              "      background-color: #E2EBFA;\n",
              "      box-shadow: 0px 1px 2px rgba(60, 64, 67, 0.3), 0px 1px 3px 1px rgba(60, 64, 67, 0.15);\n",
              "      fill: #174EA6;\n",
              "    }\n",
              "\n",
              "    [theme=dark] .colab-df-convert {\n",
              "      background-color: #3B4455;\n",
              "      fill: #D2E3FC;\n",
              "    }\n",
              "\n",
              "    [theme=dark] .colab-df-convert:hover {\n",
              "      background-color: #434B5C;\n",
              "      box-shadow: 0px 1px 3px 1px rgba(0, 0, 0, 0.15);\n",
              "      filter: drop-shadow(0px 1px 2px rgba(0, 0, 0, 0.3));\n",
              "      fill: #FFFFFF;\n",
              "    }\n",
              "  </style>\n",
              "\n",
              "      <script>\n",
              "        const buttonEl =\n",
              "          document.querySelector('#df-9249f2bc-00a8-4df4-8465-00b5b434e554 button.colab-df-convert');\n",
              "        buttonEl.style.display =\n",
              "          google.colab.kernel.accessAllowed ? 'block' : 'none';\n",
              "\n",
              "        async function convertToInteractive(key) {\n",
              "          const element = document.querySelector('#df-9249f2bc-00a8-4df4-8465-00b5b434e554');\n",
              "          const dataTable =\n",
              "            await google.colab.kernel.invokeFunction('convertToInteractive',\n",
              "                                                     [key], {});\n",
              "          if (!dataTable) return;\n",
              "\n",
              "          const docLinkHtml = 'Like what you see? Visit the ' +\n",
              "            '<a target=\"_blank\" href=https://colab.research.google.com/notebooks/data_table.ipynb>data table notebook</a>'\n",
              "            + ' to learn more about interactive tables.';\n",
              "          element.innerHTML = '';\n",
              "          dataTable['output_type'] = 'display_data';\n",
              "          await google.colab.output.renderOutput(dataTable, element);\n",
              "          const docLink = document.createElement('div');\n",
              "          docLink.innerHTML = docLinkHtml;\n",
              "          element.appendChild(docLink);\n",
              "        }\n",
              "      </script>\n",
              "    </div>\n",
              "  </div>\n",
              "  "
            ]
          },
          "metadata": {},
          "execution_count": 23
        }
      ],
      "source": [
        "forest_df.head()"
      ]
    },
    {
      "cell_type": "code",
      "source": [
        "forest_df = forest_df.drop_duplicates()"
      ],
      "metadata": {
        "id": "PWrqf1oSzft1"
      },
      "execution_count": null,
      "outputs": []
    },
    {
      "cell_type": "markdown",
      "metadata": {
        "id": "VQXHYBLpxOV1"
      },
      "source": [
        "Arreglando variables categoricas"
      ]
    },
    {
      "cell_type": "code",
      "execution_count": null,
      "metadata": {
        "id": "RJNe8RnSxOV2",
        "outputId": "e8317c22-25d7-4514-fb15-cf6af15818cb",
        "colab": {
          "base_uri": "https://localhost:8080/"
        }
      },
      "outputs": [
        {
          "output_type": "stream",
          "name": "stdout",
          "text": [
            "      Gender  age     bmi  children smoker     region      charges\n",
            "0          1   19  27.900         0    yes  southwest  16884.92400\n",
            "1          0   18  33.770         1     no  southeast   1725.55230\n",
            "2          0   28  33.000         3     no  southeast   4449.46200\n",
            "3          0   33  22.705         0     no  northwest  21984.47061\n",
            "4          0   32  28.880         0     no  northwest   3866.85520\n",
            "...      ...  ...     ...       ...    ...        ...          ...\n",
            "1333       0   50  30.970         3     no  northwest  10600.54830\n",
            "1334       1   18  31.920         0     no  northeast   2205.98080\n",
            "1335       1   18  36.850         0     no  southeast   1629.83350\n",
            "1336       1   21  25.800         0     no  southwest   2007.94500\n",
            "1337       1   61  29.070         0    yes  northwest  29141.36030\n",
            "\n",
            "[1337 rows x 7 columns]\n"
          ]
        }
      ],
      "source": [
        "df_one = pd.get_dummies(forest_df[\"sex\"]) \n",
        "  \n",
        "medicalcost_df = pd.concat((df_one, forest_df), axis=1) \n",
        "medicalcost_df = medicalcost_df.drop([\"sex\"], axis=1) \n",
        "medicalcost_df = medicalcost_df.drop([\"male\"], axis=1) \n",
        "medicalcost_df = medicalcost_df.rename(columns={\"female\": \"Gender\"}) \n",
        "print(medicalcost_df) "
      ]
    },
    {
      "cell_type": "code",
      "execution_count": null,
      "metadata": {
        "id": "SegLjE8rxOV2",
        "outputId": "8d1c71ff-1f9b-4053-f170-0f778604d48b",
        "colab": {
          "base_uri": "https://localhost:8080/"
        }
      },
      "outputs": [
        {
          "output_type": "stream",
          "name": "stdout",
          "text": [
            "      Smoker  Gender  age     bmi  children     region      charges\n",
            "0          1       1   19  27.900         0  southwest  16884.92400\n",
            "1          0       0   18  33.770         1  southeast   1725.55230\n",
            "2          0       0   28  33.000         3  southeast   4449.46200\n",
            "3          0       0   33  22.705         0  northwest  21984.47061\n",
            "4          0       0   32  28.880         0  northwest   3866.85520\n",
            "...      ...     ...  ...     ...       ...        ...          ...\n",
            "1333       0       0   50  30.970         3  northwest  10600.54830\n",
            "1334       0       1   18  31.920         0  northeast   2205.98080\n",
            "1335       0       1   18  36.850         0  southeast   1629.83350\n",
            "1336       0       1   21  25.800         0  southwest   2007.94500\n",
            "1337       1       1   61  29.070         0  northwest  29141.36030\n",
            "\n",
            "[1337 rows x 7 columns]\n"
          ]
        }
      ],
      "source": [
        "df_one = pd.get_dummies(forest_df[\"smoker\"]) \n",
        "  \n",
        "medicalcost_df = pd.concat((df_one, medicalcost_df), axis=1) \n",
        "medicalcost_df = medicalcost_df.drop([\"smoker\"], axis=1) \n",
        "medicalcost_df = medicalcost_df.drop([\"no\"], axis=1) \n",
        "medicalcost_df = medicalcost_df.rename(columns={\"yes\": \"Smoker\"}) \n",
        "print(medicalcost_df) "
      ]
    },
    {
      "cell_type": "code",
      "source": [
        "from sklearn.preprocessing import OneHotEncoder\n",
        "\n",
        "#creating instance of one-hot-encoder\n",
        "encoder = OneHotEncoder(handle_unknown='ignore')\n",
        "\n",
        "#perform one-hot encoding on 'team' column \n",
        "encoder_df = pd.DataFrame(encoder.fit_transform(medicalcost_df[['region']]).toarray())\n",
        "\n",
        "#merge one-hot encoded columns back with original DataFrame\n",
        "final_df = medicalcost_df.join(encoder_df)\n",
        "\n",
        "final_df.drop('team', axis=1, inplace=True)\n",
        "\n",
        "#view final df\n",
        "print(final_df)"
      ],
      "metadata": {
        "colab": {
          "base_uri": "https://localhost:8080/"
        },
        "id": "l_NEwexL2VBc",
        "outputId": "a17e3080-1277-4d5c-992f-0e3d3e516045"
      },
      "execution_count": null,
      "outputs": [
        {
          "output_type": "stream",
          "name": "stdout",
          "text": [
            "      Smoker  Gender  age     bmi  children     region      charges    0    1  \\\n",
            "0          1       1   19  27.900         0  southwest  16884.92400  0.0  0.0   \n",
            "1          0       0   18  33.770         1  southeast   1725.55230  0.0  0.0   \n",
            "2          0       0   28  33.000         3  southeast   4449.46200  0.0  0.0   \n",
            "3          0       0   33  22.705         0  northwest  21984.47061  0.0  1.0   \n",
            "4          0       0   32  28.880         0  northwest   3866.85520  0.0  1.0   \n",
            "...      ...     ...  ...     ...       ...        ...          ...  ...  ...   \n",
            "1333       0       0   50  30.970         3  northwest  10600.54830  1.0  0.0   \n",
            "1334       0       1   18  31.920         0  northeast   2205.98080  0.0  0.0   \n",
            "1335       0       1   18  36.850         0  southeast   1629.83350  0.0  0.0   \n",
            "1336       0       1   21  25.800         0  southwest   2007.94500  0.0  1.0   \n",
            "1337       1       1   61  29.070         0  northwest  29141.36030  NaN  NaN   \n",
            "\n",
            "        2    3  \n",
            "0     0.0  1.0  \n",
            "1     1.0  0.0  \n",
            "2     1.0  0.0  \n",
            "3     0.0  0.0  \n",
            "4     0.0  0.0  \n",
            "...   ...  ...  \n",
            "1333  0.0  0.0  \n",
            "1334  1.0  0.0  \n",
            "1335  0.0  1.0  \n",
            "1336  0.0  0.0  \n",
            "1337  NaN  NaN  \n",
            "\n",
            "[1337 rows x 11 columns]\n"
          ]
        }
      ]
    },
    {
      "cell_type": "code",
      "source": [
        "from sklearn.preprocessing import OneHotEncoder\n",
        "\n",
        "#creating instance of one-hot-encoder\n",
        "encoder = OneHotEncoder(handle_unknown='ignore')\n",
        "\n",
        "#perform one-hot encoding on 'team' column \n",
        "encoder_df = pd.DataFrame(encoder.fit_transform(medicalcost_df[['region']]).toarray())\n",
        "\n",
        "#merge one-hot encoded columns back with original DataFrame\n",
        "final_df = medicalcost_df.join(encoder_df)\n",
        "\n",
        "final_df.drop('region', axis=1, inplace=True)\n",
        "\n",
        "final_df.columns = ['Smoker', 'Gender', 'Age', 'BMI','Children','Charges','Northeast','Northwest','Southeast','Southwest']\n",
        "\n",
        "final_df.drop(final_df.tail(1).index,inplace=True) # drop last n rows\n",
        "\n",
        "#view final df\n",
        "print(final_df)"
      ],
      "metadata": {
        "outputId": "a548f82d-5d70-48eb-8e5c-f4d8a1ee2fa9",
        "colab": {
          "base_uri": "https://localhost:8080/"
        },
        "id": "bsrJMr7E3bwV"
      },
      "execution_count": null,
      "outputs": [
        {
          "output_type": "stream",
          "name": "stdout",
          "text": [
            "      Smoker  Gender  Age     BMI  Children      Charges  Northeast  \\\n",
            "0          1       1   19  27.900         0  16884.92400        0.0   \n",
            "1          0       0   18  33.770         1   1725.55230        0.0   \n",
            "2          0       0   28  33.000         3   4449.46200        0.0   \n",
            "3          0       0   33  22.705         0  21984.47061        0.0   \n",
            "4          0       0   32  28.880         0   3866.85520        0.0   \n",
            "...      ...     ...  ...     ...       ...          ...        ...   \n",
            "1332       0       1   52  44.700         3  11411.68500        0.0   \n",
            "1333       0       0   50  30.970         3  10600.54830        1.0   \n",
            "1334       0       1   18  31.920         0   2205.98080        0.0   \n",
            "1335       0       1   18  36.850         0   1629.83350        0.0   \n",
            "1336       0       1   21  25.800         0   2007.94500        0.0   \n",
            "\n",
            "      Northwest  Southeast  Southwest  \n",
            "0           0.0        0.0        1.0  \n",
            "1           0.0        1.0        0.0  \n",
            "2           0.0        1.0        0.0  \n",
            "3           1.0        0.0        0.0  \n",
            "4           1.0        0.0        0.0  \n",
            "...         ...        ...        ...  \n",
            "1332        1.0        0.0        0.0  \n",
            "1333        0.0        0.0        0.0  \n",
            "1334        0.0        1.0        0.0  \n",
            "1335        0.0        0.0        1.0  \n",
            "1336        1.0        0.0        0.0  \n",
            "\n",
            "[1336 rows x 10 columns]\n"
          ]
        }
      ]
    },
    {
      "cell_type": "markdown",
      "metadata": {
        "id": "jrmKavpwxOV3"
      },
      "source": [
        "### Features to train the model"
      ]
    },
    {
      "cell_type": "code",
      "execution_count": null,
      "metadata": {
        "id": "9fZ6jHvrxOV3"
      },
      "outputs": [],
      "source": [
        "features = ['Smoker', 'Gender', 'Age', 'BMI','Children','Northeast','Northwest','Southeast','Southwest']"
      ]
    },
    {
      "cell_type": "code",
      "execution_count": null,
      "metadata": {
        "id": "uzVRiYYrxOV4",
        "outputId": "d557dbeb-1d7a-45ad-d666-57036f841a81",
        "colab": {
          "base_uri": "https://localhost:8080/",
          "height": 363
        }
      },
      "outputs": [
        {
          "output_type": "execute_result",
          "data": {
            "text/plain": [
              "             Smoker    Gender       Age       BMI  Children  Northeast  \\\n",
              "Smoker     1.000000 -0.078228 -0.027940  0.004138  0.008687   0.012098   \n",
              "Gender    -0.078228  1.000000  0.018665 -0.046218 -0.017172   0.009423   \n",
              "Age       -0.027940  0.018665  1.000000  0.109749  0.042644   0.006884   \n",
              "BMI        0.004138 -0.046218  0.109749  1.000000  0.012581  -0.031490   \n",
              "Children   0.008687 -0.017172  0.042644  0.012581  1.000000   0.002486   \n",
              "Northeast  0.012098  0.009423  0.006884 -0.031490  0.002486   1.000000   \n",
              "Northwest  0.016430 -0.011535  0.027419 -0.002737  0.024221  -0.320158   \n",
              "Southeast -0.004907 -0.002013 -0.022631  0.072810 -0.022408  -0.345604   \n",
              "Southwest -0.023411  0.004197 -0.010804 -0.041298 -0.003447  -0.320810   \n",
              "Charges    0.786951 -0.059095  0.297246  0.198790  0.068346   0.016856   \n",
              "\n",
              "           Northwest  Southeast  Southwest   Charges  \n",
              "Smoker      0.016430  -0.004907  -0.023411  0.786951  \n",
              "Gender     -0.011535  -0.002013   0.004197 -0.059095  \n",
              "Age         0.027419  -0.022631  -0.010804  0.297246  \n",
              "BMI        -0.002737   0.072810  -0.041298  0.198790  \n",
              "Children    0.024221  -0.022408  -0.003447  0.068346  \n",
              "Northeast  -0.320158  -0.345604  -0.320810  0.016856  \n",
              "Northwest   1.000000  -0.345604  -0.320810  0.035999  \n",
              "Southeast  -0.345604   1.000000  -0.346308 -0.020794  \n",
              "Southwest  -0.320810  -0.346308   1.000000 -0.031240  \n",
              "Charges     0.035999  -0.020794  -0.031240  1.000000  "
            ],
            "text/html": [
              "\n",
              "  <div id=\"df-2bbdef3b-4cb8-4cf4-ada6-e9eadd7ccd10\">\n",
              "    <div class=\"colab-df-container\">\n",
              "      <div>\n",
              "<style scoped>\n",
              "    .dataframe tbody tr th:only-of-type {\n",
              "        vertical-align: middle;\n",
              "    }\n",
              "\n",
              "    .dataframe tbody tr th {\n",
              "        vertical-align: top;\n",
              "    }\n",
              "\n",
              "    .dataframe thead th {\n",
              "        text-align: right;\n",
              "    }\n",
              "</style>\n",
              "<table border=\"1\" class=\"dataframe\">\n",
              "  <thead>\n",
              "    <tr style=\"text-align: right;\">\n",
              "      <th></th>\n",
              "      <th>Smoker</th>\n",
              "      <th>Gender</th>\n",
              "      <th>Age</th>\n",
              "      <th>BMI</th>\n",
              "      <th>Children</th>\n",
              "      <th>Northeast</th>\n",
              "      <th>Northwest</th>\n",
              "      <th>Southeast</th>\n",
              "      <th>Southwest</th>\n",
              "      <th>Charges</th>\n",
              "    </tr>\n",
              "  </thead>\n",
              "  <tbody>\n",
              "    <tr>\n",
              "      <th>Smoker</th>\n",
              "      <td>1.000000</td>\n",
              "      <td>-0.078228</td>\n",
              "      <td>-0.027940</td>\n",
              "      <td>0.004138</td>\n",
              "      <td>0.008687</td>\n",
              "      <td>0.012098</td>\n",
              "      <td>0.016430</td>\n",
              "      <td>-0.004907</td>\n",
              "      <td>-0.023411</td>\n",
              "      <td>0.786951</td>\n",
              "    </tr>\n",
              "    <tr>\n",
              "      <th>Gender</th>\n",
              "      <td>-0.078228</td>\n",
              "      <td>1.000000</td>\n",
              "      <td>0.018665</td>\n",
              "      <td>-0.046218</td>\n",
              "      <td>-0.017172</td>\n",
              "      <td>0.009423</td>\n",
              "      <td>-0.011535</td>\n",
              "      <td>-0.002013</td>\n",
              "      <td>0.004197</td>\n",
              "      <td>-0.059095</td>\n",
              "    </tr>\n",
              "    <tr>\n",
              "      <th>Age</th>\n",
              "      <td>-0.027940</td>\n",
              "      <td>0.018665</td>\n",
              "      <td>1.000000</td>\n",
              "      <td>0.109749</td>\n",
              "      <td>0.042644</td>\n",
              "      <td>0.006884</td>\n",
              "      <td>0.027419</td>\n",
              "      <td>-0.022631</td>\n",
              "      <td>-0.010804</td>\n",
              "      <td>0.297246</td>\n",
              "    </tr>\n",
              "    <tr>\n",
              "      <th>BMI</th>\n",
              "      <td>0.004138</td>\n",
              "      <td>-0.046218</td>\n",
              "      <td>0.109749</td>\n",
              "      <td>1.000000</td>\n",
              "      <td>0.012581</td>\n",
              "      <td>-0.031490</td>\n",
              "      <td>-0.002737</td>\n",
              "      <td>0.072810</td>\n",
              "      <td>-0.041298</td>\n",
              "      <td>0.198790</td>\n",
              "    </tr>\n",
              "    <tr>\n",
              "      <th>Children</th>\n",
              "      <td>0.008687</td>\n",
              "      <td>-0.017172</td>\n",
              "      <td>0.042644</td>\n",
              "      <td>0.012581</td>\n",
              "      <td>1.000000</td>\n",
              "      <td>0.002486</td>\n",
              "      <td>0.024221</td>\n",
              "      <td>-0.022408</td>\n",
              "      <td>-0.003447</td>\n",
              "      <td>0.068346</td>\n",
              "    </tr>\n",
              "    <tr>\n",
              "      <th>Northeast</th>\n",
              "      <td>0.012098</td>\n",
              "      <td>0.009423</td>\n",
              "      <td>0.006884</td>\n",
              "      <td>-0.031490</td>\n",
              "      <td>0.002486</td>\n",
              "      <td>1.000000</td>\n",
              "      <td>-0.320158</td>\n",
              "      <td>-0.345604</td>\n",
              "      <td>-0.320810</td>\n",
              "      <td>0.016856</td>\n",
              "    </tr>\n",
              "    <tr>\n",
              "      <th>Northwest</th>\n",
              "      <td>0.016430</td>\n",
              "      <td>-0.011535</td>\n",
              "      <td>0.027419</td>\n",
              "      <td>-0.002737</td>\n",
              "      <td>0.024221</td>\n",
              "      <td>-0.320158</td>\n",
              "      <td>1.000000</td>\n",
              "      <td>-0.345604</td>\n",
              "      <td>-0.320810</td>\n",
              "      <td>0.035999</td>\n",
              "    </tr>\n",
              "    <tr>\n",
              "      <th>Southeast</th>\n",
              "      <td>-0.004907</td>\n",
              "      <td>-0.002013</td>\n",
              "      <td>-0.022631</td>\n",
              "      <td>0.072810</td>\n",
              "      <td>-0.022408</td>\n",
              "      <td>-0.345604</td>\n",
              "      <td>-0.345604</td>\n",
              "      <td>1.000000</td>\n",
              "      <td>-0.346308</td>\n",
              "      <td>-0.020794</td>\n",
              "    </tr>\n",
              "    <tr>\n",
              "      <th>Southwest</th>\n",
              "      <td>-0.023411</td>\n",
              "      <td>0.004197</td>\n",
              "      <td>-0.010804</td>\n",
              "      <td>-0.041298</td>\n",
              "      <td>-0.003447</td>\n",
              "      <td>-0.320810</td>\n",
              "      <td>-0.320810</td>\n",
              "      <td>-0.346308</td>\n",
              "      <td>1.000000</td>\n",
              "      <td>-0.031240</td>\n",
              "    </tr>\n",
              "    <tr>\n",
              "      <th>Charges</th>\n",
              "      <td>0.786951</td>\n",
              "      <td>-0.059095</td>\n",
              "      <td>0.297246</td>\n",
              "      <td>0.198790</td>\n",
              "      <td>0.068346</td>\n",
              "      <td>0.016856</td>\n",
              "      <td>0.035999</td>\n",
              "      <td>-0.020794</td>\n",
              "      <td>-0.031240</td>\n",
              "      <td>1.000000</td>\n",
              "    </tr>\n",
              "  </tbody>\n",
              "</table>\n",
              "</div>\n",
              "      <button class=\"colab-df-convert\" onclick=\"convertToInteractive('df-2bbdef3b-4cb8-4cf4-ada6-e9eadd7ccd10')\"\n",
              "              title=\"Convert this dataframe to an interactive table.\"\n",
              "              style=\"display:none;\">\n",
              "        \n",
              "  <svg xmlns=\"http://www.w3.org/2000/svg\" height=\"24px\"viewBox=\"0 0 24 24\"\n",
              "       width=\"24px\">\n",
              "    <path d=\"M0 0h24v24H0V0z\" fill=\"none\"/>\n",
              "    <path d=\"M18.56 5.44l.94 2.06.94-2.06 2.06-.94-2.06-.94-.94-2.06-.94 2.06-2.06.94zm-11 1L8.5 8.5l.94-2.06 2.06-.94-2.06-.94L8.5 2.5l-.94 2.06-2.06.94zm10 10l.94 2.06.94-2.06 2.06-.94-2.06-.94-.94-2.06-.94 2.06-2.06.94z\"/><path d=\"M17.41 7.96l-1.37-1.37c-.4-.4-.92-.59-1.43-.59-.52 0-1.04.2-1.43.59L10.3 9.45l-7.72 7.72c-.78.78-.78 2.05 0 2.83L4 21.41c.39.39.9.59 1.41.59.51 0 1.02-.2 1.41-.59l7.78-7.78 2.81-2.81c.8-.78.8-2.07 0-2.86zM5.41 20L4 18.59l7.72-7.72 1.47 1.35L5.41 20z\"/>\n",
              "  </svg>\n",
              "      </button>\n",
              "      \n",
              "  <style>\n",
              "    .colab-df-container {\n",
              "      display:flex;\n",
              "      flex-wrap:wrap;\n",
              "      gap: 12px;\n",
              "    }\n",
              "\n",
              "    .colab-df-convert {\n",
              "      background-color: #E8F0FE;\n",
              "      border: none;\n",
              "      border-radius: 50%;\n",
              "      cursor: pointer;\n",
              "      display: none;\n",
              "      fill: #1967D2;\n",
              "      height: 32px;\n",
              "      padding: 0 0 0 0;\n",
              "      width: 32px;\n",
              "    }\n",
              "\n",
              "    .colab-df-convert:hover {\n",
              "      background-color: #E2EBFA;\n",
              "      box-shadow: 0px 1px 2px rgba(60, 64, 67, 0.3), 0px 1px 3px 1px rgba(60, 64, 67, 0.15);\n",
              "      fill: #174EA6;\n",
              "    }\n",
              "\n",
              "    [theme=dark] .colab-df-convert {\n",
              "      background-color: #3B4455;\n",
              "      fill: #D2E3FC;\n",
              "    }\n",
              "\n",
              "    [theme=dark] .colab-df-convert:hover {\n",
              "      background-color: #434B5C;\n",
              "      box-shadow: 0px 1px 3px 1px rgba(0, 0, 0, 0.15);\n",
              "      filter: drop-shadow(0px 1px 2px rgba(0, 0, 0, 0.3));\n",
              "      fill: #FFFFFF;\n",
              "    }\n",
              "  </style>\n",
              "\n",
              "      <script>\n",
              "        const buttonEl =\n",
              "          document.querySelector('#df-2bbdef3b-4cb8-4cf4-ada6-e9eadd7ccd10 button.colab-df-convert');\n",
              "        buttonEl.style.display =\n",
              "          google.colab.kernel.accessAllowed ? 'block' : 'none';\n",
              "\n",
              "        async function convertToInteractive(key) {\n",
              "          const element = document.querySelector('#df-2bbdef3b-4cb8-4cf4-ada6-e9eadd7ccd10');\n",
              "          const dataTable =\n",
              "            await google.colab.kernel.invokeFunction('convertToInteractive',\n",
              "                                                     [key], {});\n",
              "          if (!dataTable) return;\n",
              "\n",
              "          const docLinkHtml = 'Like what you see? Visit the ' +\n",
              "            '<a target=\"_blank\" href=https://colab.research.google.com/notebooks/data_table.ipynb>data table notebook</a>'\n",
              "            + ' to learn more about interactive tables.';\n",
              "          element.innerHTML = '';\n",
              "          dataTable['output_type'] = 'display_data';\n",
              "          await google.colab.output.renderOutput(dataTable, element);\n",
              "          const docLink = document.createElement('div');\n",
              "          docLink.innerHTML = docLinkHtml;\n",
              "          element.appendChild(docLink);\n",
              "        }\n",
              "      </script>\n",
              "    </div>\n",
              "  </div>\n",
              "  "
            ]
          },
          "metadata": {},
          "execution_count": 94
        }
      ],
      "source": [
        "final_df[features + ['Charges']].corr()"
      ]
    },
    {
      "cell_type": "markdown",
      "metadata": {
        "id": "6QELJhxcxOV4"
      },
      "source": [
        "### Splitting train and test datasets"
      ]
    },
    {
      "cell_type": "code",
      "execution_count": null,
      "metadata": {
        "id": "gSUxiuu-xOV4"
      },
      "outputs": [],
      "source": [
        "X = final_df[features]"
      ]
    },
    {
      "cell_type": "code",
      "execution_count": null,
      "metadata": {
        "id": "2SMsFzsMxOV4"
      },
      "outputs": [],
      "source": [
        "Y = final_df['Charges']"
      ]
    },
    {
      "cell_type": "code",
      "execution_count": null,
      "metadata": {
        "id": "ZQLxjjLwxOV5"
      },
      "outputs": [],
      "source": [
        "X_train, X_test, Y_train, Y_test = train_test_split(X, Y, test_size = 0.2, random_state = 1)"
      ]
    },
    {
      "cell_type": "code",
      "execution_count": null,
      "metadata": {
        "id": "CG9XvRv_xOV5",
        "outputId": "d1f0b0d0-5270-4b33-caf6-1f07c3ac0cc0",
        "colab": {
          "base_uri": "https://localhost:8080/"
        }
      },
      "outputs": [
        {
          "output_type": "execute_result",
          "data": {
            "text/plain": [
              "(1068, 9)"
            ]
          },
          "metadata": {},
          "execution_count": 98
        }
      ],
      "source": [
        "X_train.shape"
      ]
    },
    {
      "cell_type": "code",
      "execution_count": null,
      "metadata": {
        "id": "KlG94L_5xOV5",
        "outputId": "0f7c1c96-fd43-491f-b38b-fa7ca8fca823",
        "colab": {
          "base_uri": "https://localhost:8080/"
        }
      },
      "outputs": [
        {
          "output_type": "execute_result",
          "data": {
            "text/plain": [
              "(268, 9)"
            ]
          },
          "metadata": {},
          "execution_count": 99
        }
      ],
      "source": [
        "X_test.shape"
      ]
    },
    {
      "cell_type": "code",
      "execution_count": null,
      "metadata": {
        "id": "O7r8anVYxOV5"
      },
      "outputs": [],
      "source": [
        "plt.figure(figsize = (28, 3))\n",
        "plt.boxplot(Y_train, vert = False)\n",
        "plt.show()"
      ]
    },
    {
      "cell_type": "code",
      "execution_count": null,
      "metadata": {
        "id": "hJCQVrh3xOV5"
      },
      "outputs": [],
      "source": [
        "plt.figure(figsize = (28, 3))\n",
        "plt.boxplot(Y_test, vert = False)\n",
        "plt.show()"
      ]
    },
    {
      "cell_type": "markdown",
      "metadata": {
        "id": "2bSEZucgxOV6"
      },
      "source": [
        "### Scaling features"
      ]
    },
    {
      "cell_type": "code",
      "execution_count": null,
      "metadata": {
        "id": "5MaH19KXxOV6"
      },
      "outputs": [],
      "source": [
        "scaler = StandardScaler()"
      ]
    },
    {
      "cell_type": "code",
      "execution_count": null,
      "metadata": {
        "id": "rU0LfUpDxOV6"
      },
      "outputs": [],
      "source": [
        "X_train_scaled = scaler.fit_transform(X_train)\n",
        "X_test_scaled = scaler.transform(X_test)"
      ]
    },
    {
      "cell_type": "markdown",
      "metadata": {
        "id": "OruX3qzDxOV6"
      },
      "source": [
        "### Training the model"
      ]
    },
    {
      "cell_type": "code",
      "execution_count": null,
      "metadata": {
        "id": "La1B_vKJxOV6"
      },
      "outputs": [],
      "source": [
        "regr = LinearRegression()"
      ]
    },
    {
      "cell_type": "code",
      "execution_count": null,
      "metadata": {
        "id": "zr4i5w-dxOV7",
        "outputId": "cfa565c2-5585-4488-ac5c-1e308ed5e510",
        "colab": {
          "base_uri": "https://localhost:8080/"
        }
      },
      "outputs": [
        {
          "output_type": "execute_result",
          "data": {
            "text/plain": [
              "LinearRegression()"
            ]
          },
          "metadata": {},
          "execution_count": 105
        }
      ],
      "source": [
        "regr.fit(X_train_scaled, Y_train)"
      ]
    },
    {
      "cell_type": "code",
      "execution_count": null,
      "metadata": {
        "id": "D4AF4819xOV7",
        "outputId": "2677fdce-7f6a-4b35-8311-f15c41174bb7",
        "colab": {
          "base_uri": "https://localhost:8080/"
        }
      },
      "outputs": [
        {
          "output_type": "execute_result",
          "data": {
            "text/plain": [
              "array([ 9.77720932e+03, -6.24361393e+01,  3.57719028e+03,  2.07302286e+03,\n",
              "        5.40295909e+02,  1.08258245e+16,  1.07967251e+16,  1.12785114e+16,\n",
              "        1.09944972e+16])"
            ]
          },
          "metadata": {},
          "execution_count": 106
        }
      ],
      "source": [
        "regr.coef_"
      ]
    },
    {
      "cell_type": "code",
      "execution_count": null,
      "metadata": {
        "id": "Krr2eBW8xOV7",
        "outputId": "38bd5cbd-8945-4921-ada9-55be4b79b569",
        "colab": {
          "base_uri": "https://localhost:8080/"
        }
      },
      "outputs": [
        {
          "output_type": "execute_result",
          "data": {
            "text/plain": [
              "13529.139460981645"
            ]
          },
          "metadata": {},
          "execution_count": 107
        }
      ],
      "source": [
        "regr.intercept_"
      ]
    },
    {
      "cell_type": "markdown",
      "source": [
        "Los atributos más importantes parecen ser la región y el genero."
      ],
      "metadata": {
        "id": "WRH_CrwfFXNU"
      }
    },
    {
      "cell_type": "markdown",
      "metadata": {
        "id": "HFWWEV6AxOV7"
      },
      "source": [
        "### Evaluating the model"
      ]
    },
    {
      "cell_type": "code",
      "execution_count": null,
      "metadata": {
        "id": "iJpQVVqWxOV7"
      },
      "outputs": [],
      "source": [
        "preds_train = regr.predict(X_train_scaled)\n",
        "preds_test = regr.predict(X_test_scaled)"
      ]
    },
    {
      "cell_type": "code",
      "execution_count": null,
      "metadata": {
        "id": "2aG6N4KRxOV8",
        "outputId": "42ce81d3-3f4a-4310-c246-fa010d65a321",
        "colab": {
          "base_uri": "https://localhost:8080/"
        }
      },
      "outputs": [
        {
          "output_type": "execute_result",
          "data": {
            "text/plain": [
              "(4299.481058149854, 3912.26787373456)"
            ]
          },
          "metadata": {},
          "execution_count": 109
        }
      ],
      "source": [
        "mean_absolute_error(Y_train, preds_train), mean_absolute_error(Y_test, preds_test)"
      ]
    },
    {
      "cell_type": "code",
      "execution_count": null,
      "metadata": {
        "id": "uz_qhzsAxOV8",
        "outputId": "13fa51ba-9e59-4531-b8cd-cadb9c9458eb",
        "colab": {
          "base_uri": "https://localhost:8080/"
        }
      },
      "outputs": [
        {
          "output_type": "execute_result",
          "data": {
            "text/plain": [
              "(6128.758672733442, 5742.655228217935)"
            ]
          },
          "metadata": {},
          "execution_count": 110
        }
      ],
      "source": [
        "np.sqrt(mean_squared_error(Y_train, preds_train)), np.sqrt(mean_squared_error(Y_test, preds_test))"
      ]
    },
    {
      "cell_type": "markdown",
      "source": [
        "El error obtenido es menor al 4000 dolares en ambas divisiones del dataset. Por lo anterior, podemos definir que el error es considerable y no existe overfitting en el modelo"
      ],
      "metadata": {
        "id": "YtcSUrzw7BxW"
      }
    },
    {
      "cell_type": "markdown",
      "metadata": {
        "id": "_agr75IVxOV8"
      },
      "source": [
        "### Error analysis"
      ]
    },
    {
      "cell_type": "code",
      "execution_count": null,
      "metadata": {
        "id": "wPdqbPVsxOV8",
        "outputId": "64955751-3dfc-44c6-a19b-0b840cbb4a19",
        "colab": {
          "base_uri": "https://localhost:8080/"
        }
      },
      "outputs": [
        {
          "output_type": "execute_result",
          "data": {
            "text/plain": [
              "count    2.680000e+02\n",
              "mean     3.665128e-13\n",
              "std      2.282700e-11\n",
              "min     -4.729372e-11\n",
              "25%     -2.478373e-11\n",
              "50%      9.549694e-12\n",
              "75%      1.637090e-11\n",
              "95%      2.546585e-11\n",
              "99%      2.849447e-11\n",
              "max      2.910383e-11\n",
              "Name: Charges, dtype: float64"
            ]
          },
          "metadata": {},
          "execution_count": 55
        }
      ],
      "source": [
        "(Y_test - preds_test).describe(percentiles = [.25, .5, .75, .95, .99])"
      ]
    },
    {
      "cell_type": "code",
      "execution_count": null,
      "metadata": {
        "id": "zMmVyEdDxOV8"
      },
      "outputs": [],
      "source": [
        "plt.figure(figsize = (28, 3))\n",
        "plt.boxplot((Y_test - preds_test), vert = False)\n",
        "plt.grid()\n",
        "plt.show()"
      ]
    },
    {
      "cell_type": "code",
      "execution_count": null,
      "metadata": {
        "id": "IfP2F_cdxOV8"
      },
      "outputs": [],
      "source": [
        "worst_condition = np.where((Y_test - preds_test) > 3, True, False)"
      ]
    },
    {
      "cell_type": "code",
      "execution_count": null,
      "metadata": {
        "id": "acicncFixOV9"
      },
      "outputs": [],
      "source": [
        "worst_cases = pd.concat([\n",
        "    X_test.loc[worst_condition],\n",
        "    Y_test.loc[worst_condition]\n",
        "], axis = 1).reset_index(drop = True)"
      ]
    },
    {
      "cell_type": "code",
      "execution_count": null,
      "metadata": {
        "id": "XTqHGzK9xOV9"
      },
      "outputs": [],
      "source": [
        "worst_cases['predictions'] = pd.Series(preds_test).loc[worst_condition].reset_index(drop = True)"
      ]
    },
    {
      "cell_type": "code",
      "execution_count": null,
      "metadata": {
        "id": "vHsjiPBDxOV9",
        "outputId": "ec5f88ea-c40f-4b69-f875-de67a61b69bd",
        "colab": {
          "base_uri": "https://localhost:8080/"
        }
      },
      "outputs": [
        {
          "output_type": "execute_result",
          "data": {
            "text/plain": [
              "(0, 12)"
            ]
          },
          "metadata": {},
          "execution_count": 60
        }
      ],
      "source": [
        "worst_cases.shape"
      ]
    },
    {
      "cell_type": "code",
      "execution_count": null,
      "metadata": {
        "id": "l9HPssJMxOV9",
        "outputId": "0d80e9ae-cf84-4d0a-fc5f-36ae1dd34262",
        "colab": {
          "base_uri": "https://localhost:8080/"
        }
      },
      "outputs": [
        {
          "output_type": "execute_result",
          "data": {
            "text/plain": [
              "Empty DataFrame\n",
              "Columns: [Smoker, Gender, Age, BMI, Children, Charges, Northeast, Northwest, Southeast, Southwest, Charges, predictions]\n",
              "Index: []"
            ],
            "text/html": [
              "\n",
              "  <div id=\"df-af4a3f74-feb0-4048-a672-7daa6356848c\">\n",
              "    <div class=\"colab-df-container\">\n",
              "      <div>\n",
              "<style scoped>\n",
              "    .dataframe tbody tr th:only-of-type {\n",
              "        vertical-align: middle;\n",
              "    }\n",
              "\n",
              "    .dataframe tbody tr th {\n",
              "        vertical-align: top;\n",
              "    }\n",
              "\n",
              "    .dataframe thead th {\n",
              "        text-align: right;\n",
              "    }\n",
              "</style>\n",
              "<table border=\"1\" class=\"dataframe\">\n",
              "  <thead>\n",
              "    <tr style=\"text-align: right;\">\n",
              "      <th></th>\n",
              "      <th>Smoker</th>\n",
              "      <th>Gender</th>\n",
              "      <th>Age</th>\n",
              "      <th>BMI</th>\n",
              "      <th>Children</th>\n",
              "      <th>Charges</th>\n",
              "      <th>Northeast</th>\n",
              "      <th>Northwest</th>\n",
              "      <th>Southeast</th>\n",
              "      <th>Southwest</th>\n",
              "      <th>Charges</th>\n",
              "      <th>predictions</th>\n",
              "    </tr>\n",
              "  </thead>\n",
              "  <tbody>\n",
              "  </tbody>\n",
              "</table>\n",
              "</div>\n",
              "      <button class=\"colab-df-convert\" onclick=\"convertToInteractive('df-af4a3f74-feb0-4048-a672-7daa6356848c')\"\n",
              "              title=\"Convert this dataframe to an interactive table.\"\n",
              "              style=\"display:none;\">\n",
              "        \n",
              "  <svg xmlns=\"http://www.w3.org/2000/svg\" height=\"24px\"viewBox=\"0 0 24 24\"\n",
              "       width=\"24px\">\n",
              "    <path d=\"M0 0h24v24H0V0z\" fill=\"none\"/>\n",
              "    <path d=\"M18.56 5.44l.94 2.06.94-2.06 2.06-.94-2.06-.94-.94-2.06-.94 2.06-2.06.94zm-11 1L8.5 8.5l.94-2.06 2.06-.94-2.06-.94L8.5 2.5l-.94 2.06-2.06.94zm10 10l.94 2.06.94-2.06 2.06-.94-2.06-.94-.94-2.06-.94 2.06-2.06.94z\"/><path d=\"M17.41 7.96l-1.37-1.37c-.4-.4-.92-.59-1.43-.59-.52 0-1.04.2-1.43.59L10.3 9.45l-7.72 7.72c-.78.78-.78 2.05 0 2.83L4 21.41c.39.39.9.59 1.41.59.51 0 1.02-.2 1.41-.59l7.78-7.78 2.81-2.81c.8-.78.8-2.07 0-2.86zM5.41 20L4 18.59l7.72-7.72 1.47 1.35L5.41 20z\"/>\n",
              "  </svg>\n",
              "      </button>\n",
              "      \n",
              "  <style>\n",
              "    .colab-df-container {\n",
              "      display:flex;\n",
              "      flex-wrap:wrap;\n",
              "      gap: 12px;\n",
              "    }\n",
              "\n",
              "    .colab-df-convert {\n",
              "      background-color: #E8F0FE;\n",
              "      border: none;\n",
              "      border-radius: 50%;\n",
              "      cursor: pointer;\n",
              "      display: none;\n",
              "      fill: #1967D2;\n",
              "      height: 32px;\n",
              "      padding: 0 0 0 0;\n",
              "      width: 32px;\n",
              "    }\n",
              "\n",
              "    .colab-df-convert:hover {\n",
              "      background-color: #E2EBFA;\n",
              "      box-shadow: 0px 1px 2px rgba(60, 64, 67, 0.3), 0px 1px 3px 1px rgba(60, 64, 67, 0.15);\n",
              "      fill: #174EA6;\n",
              "    }\n",
              "\n",
              "    [theme=dark] .colab-df-convert {\n",
              "      background-color: #3B4455;\n",
              "      fill: #D2E3FC;\n",
              "    }\n",
              "\n",
              "    [theme=dark] .colab-df-convert:hover {\n",
              "      background-color: #434B5C;\n",
              "      box-shadow: 0px 1px 3px 1px rgba(0, 0, 0, 0.15);\n",
              "      filter: drop-shadow(0px 1px 2px rgba(0, 0, 0, 0.3));\n",
              "      fill: #FFFFFF;\n",
              "    }\n",
              "  </style>\n",
              "\n",
              "      <script>\n",
              "        const buttonEl =\n",
              "          document.querySelector('#df-af4a3f74-feb0-4048-a672-7daa6356848c button.colab-df-convert');\n",
              "        buttonEl.style.display =\n",
              "          google.colab.kernel.accessAllowed ? 'block' : 'none';\n",
              "\n",
              "        async function convertToInteractive(key) {\n",
              "          const element = document.querySelector('#df-af4a3f74-feb0-4048-a672-7daa6356848c');\n",
              "          const dataTable =\n",
              "            await google.colab.kernel.invokeFunction('convertToInteractive',\n",
              "                                                     [key], {});\n",
              "          if (!dataTable) return;\n",
              "\n",
              "          const docLinkHtml = 'Like what you see? Visit the ' +\n",
              "            '<a target=\"_blank\" href=https://colab.research.google.com/notebooks/data_table.ipynb>data table notebook</a>'\n",
              "            + ' to learn more about interactive tables.';\n",
              "          element.innerHTML = '';\n",
              "          dataTable['output_type'] = 'display_data';\n",
              "          await google.colab.output.renderOutput(dataTable, element);\n",
              "          const docLink = document.createElement('div');\n",
              "          docLink.innerHTML = docLinkHtml;\n",
              "          element.appendChild(docLink);\n",
              "        }\n",
              "      </script>\n",
              "    </div>\n",
              "  </div>\n",
              "  "
            ]
          },
          "metadata": {},
          "execution_count": 61
        }
      ],
      "source": [
        "worst_cases"
      ]
    },
    {
      "cell_type": "code",
      "execution_count": null,
      "metadata": {
        "id": "-fAIDl6_xOV9"
      },
      "outputs": [],
      "source": []
    },
    {
      "cell_type": "markdown",
      "source": [
        "No hay worst cases lo que nos indica que el modelo es bueno"
      ],
      "metadata": {
        "id": "_EJ9SblO8Y86"
      }
    },
    {
      "cell_type": "markdown",
      "source": [
        "# Polinomial"
      ],
      "metadata": {
        "id": "Nft05maN9UJU"
      }
    },
    {
      "cell_type": "code",
      "source": [
        "from sklearn.preprocessing import PolynomialFeatures"
      ],
      "metadata": {
        "id": "1O09IEt481ka"
      },
      "execution_count": null,
      "outputs": []
    },
    {
      "cell_type": "code",
      "source": [
        "X = final_df[features]\n",
        "Poly_Features = PolynomialFeatures(degree=2, include_bias = False)\n",
        "X_Poly = Poly_Features.fit_transform(X)\n",
        "Y = final_df['Charges']\n",
        "X_train, X_test, Y_train, Y_test = train_test_split(X_Poly, Y, test_size = 0.2, random_state = 1)\n",
        "scaler = StandardScaler()\n",
        "X_train_scaled = scaler.fit_transform(X_train)\n",
        "X_test_scaled = scaler.transform(X_test)\n",
        "regr = LinearRegression()\n",
        "regr.fit(X_train_scaled, Y_train)\n",
        "regr.coef_\n",
        "regr.intercept_\n",
        "preds_train = regr.predict(X_train_scaled)\n",
        "preds_test = regr.predict(X_test_scaled)\n",
        "regr.coef_"
      ],
      "metadata": {
        "id": "25qmgkA_Axql",
        "outputId": "d95a2336-dc07-4c24-9ad0-c3d6c9b01be5",
        "colab": {
          "base_uri": "https://localhost:8080/"
        }
      },
      "execution_count": null,
      "outputs": [
        {
          "output_type": "execute_result",
          "data": {
            "text/plain": [
              "array([-1.21403396e+16, -8.45137252e+13, -9.91523367e+13,  4.02473026e+14,\n",
              "        5.21330882e+14,  4.78221893e+14,  2.17791531e+14,  4.18068260e+14,\n",
              "        8.56350078e+14,  7.29087222e+14, -5.07500000e+01,  2.99750000e+02,\n",
              "        1.86516250e+04, -5.53250000e+02,  6.26953583e+15,  6.26953583e+15,\n",
              "        6.52254702e+15,  5.94795875e+15,  4.12945482e+14, -9.17296875e+02,\n",
              "        3.88750000e+01,  6.38359375e+01, -2.12618259e+14, -2.10426642e+14,\n",
              "       -2.23025002e+14, -2.22358282e+14,  4.00140039e+03,  8.03365234e+02,\n",
              "        2.74335938e+01,  1.26509694e+14,  1.29241208e+14,  1.35179251e+14,\n",
              "        1.29973502e+14, -3.43725000e+03, -3.54500000e+02, -8.84734550e+14,\n",
              "       -8.95923500e+14, -9.63063834e+14, -8.96453626e+14, -5.90500000e+02,\n",
              "       -3.20150066e+14, -3.18442487e+14, -3.47375523e+14, -3.45036540e+14,\n",
              "        1.84969713e+14,  0.00000000e+00,  0.00000000e+00,  0.00000000e+00,\n",
              "        4.43617444e+14,  0.00000000e+00,  0.00000000e+00,  2.72855011e+14,\n",
              "        0.00000000e+00, -1.82825554e+14])"
            ]
          },
          "metadata": {},
          "execution_count": 111
        }
      ]
    },
    {
      "cell_type": "code",
      "source": [
        "mean_absolute_error(Y_train, preds_train), mean_absolute_error(Y_test, preds_test)"
      ],
      "metadata": {
        "id": "7jYGX4-rBOyC",
        "outputId": "7aaab28c-7ad4-4a6d-e0b3-595c2519f3e7",
        "colab": {
          "base_uri": "https://localhost:8080/"
        }
      },
      "execution_count": null,
      "outputs": [
        {
          "output_type": "execute_result",
          "data": {
            "text/plain": [
              "(2944.4405371206194, 2692.0533520560016)"
            ]
          },
          "metadata": {},
          "execution_count": 112
        }
      ]
    },
    {
      "cell_type": "code",
      "source": [
        "np.sqrt(mean_squared_error(Y_train, preds_train)), np.sqrt(mean_squared_error(Y_test, preds_test))"
      ],
      "metadata": {
        "id": "CCnV7hf2BRP2",
        "outputId": "b0265ed9-17af-46a4-936c-1a99fa48b9ba",
        "colab": {
          "base_uri": "https://localhost:8080/"
        }
      },
      "execution_count": null,
      "outputs": [
        {
          "output_type": "execute_result",
          "data": {
            "text/plain": [
              "(4841.272424250981, 4470.885984773835)"
            ]
          },
          "metadata": {},
          "execution_count": 113
        }
      ]
    },
    {
      "cell_type": "code",
      "source": [
        "X = final_df[features]\n",
        "Poly_Features = PolynomialFeatures(degree=3, include_bias = False)\n",
        "X_Poly = Poly_Features.fit_transform(X)\n",
        "Y = final_df['Charges']\n",
        "X_train, X_test, Y_train, Y_test = train_test_split(X_Poly, Y, test_size = 0.2, random_state = 1)\n",
        "scaler = StandardScaler()\n",
        "X_train_scaled = scaler.fit_transform(X_train)\n",
        "X_test_scaled = scaler.transform(X_test)\n",
        "regr = LinearRegression()\n",
        "regr.fit(X_train_scaled, Y_train)\n",
        "regr.coef_\n",
        "regr.intercept_\n",
        "preds_train = regr.predict(X_train_scaled)\n",
        "preds_test = regr.predict(X_test_scaled)"
      ],
      "metadata": {
        "id": "xLMO496PBVlc"
      },
      "execution_count": null,
      "outputs": []
    },
    {
      "cell_type": "code",
      "source": [
        "mean_absolute_error(Y_train, preds_train), mean_absolute_error(Y_test, preds_test)"
      ],
      "metadata": {
        "id": "dAJs2hoYBdcN",
        "outputId": "0e0b7d7f-4d8b-41af-f197-d5e74fc9c22b",
        "colab": {
          "base_uri": "https://localhost:8080/"
        }
      },
      "execution_count": null,
      "outputs": [
        {
          "output_type": "execute_result",
          "data": {
            "text/plain": [
              "(2876.5057079479, 2959.3776459469536)"
            ]
          },
          "metadata": {},
          "execution_count": 115
        }
      ]
    },
    {
      "cell_type": "code",
      "source": [
        "np.sqrt(mean_squared_error(Y_train, preds_train)), np.sqrt(mean_squared_error(Y_test, preds_test))"
      ],
      "metadata": {
        "id": "zXKWpGcFBfNB",
        "outputId": "ef34c23c-74cf-45bf-dbf5-1f7bb5dacb8d",
        "colab": {
          "base_uri": "https://localhost:8080/"
        }
      },
      "execution_count": null,
      "outputs": [
        {
          "output_type": "execute_result",
          "data": {
            "text/plain": [
              "(4675.408725683473, 4592.241853783964)"
            ]
          },
          "metadata": {},
          "execution_count": 116
        }
      ]
    },
    {
      "cell_type": "markdown",
      "source": [
        "La transformación polineal con 2 grados reduce el error."
      ],
      "metadata": {
        "id": "7DhZIouOB392"
      }
    },
    {
      "cell_type": "markdown",
      "source": [
        "# Regularización"
      ],
      "metadata": {
        "id": "bfP21xk9CABh"
      }
    },
    {
      "cell_type": "code",
      "source": [
        "from sklearn.linear_model import Ridge\n",
        "ridge_reg = Ridge(alpha=0.1,solver=\"cholesky\")\n",
        "\n",
        "X = final_df[features]\n",
        "Y = final_df['Charges']\n",
        "X_train, X_test, Y_train, Y_test = train_test_split(X, Y, test_size = 0.2, random_state = 1)\n",
        "scaler = StandardScaler()\n",
        "X_train_scaled = scaler.fit_transform(X_train)\n",
        "X_test_scaled = scaler.transform(X_test)\n",
        "ridge_reg.fit(X_train_scaled, Y_train)\n",
        "ridge_reg.coef_\n",
        "ridge_reg.intercept_\n",
        "preds_train = ridge_reg.predict(X_train_scaled)\n",
        "preds_test = ridge_reg.predict(X_test_scaled)"
      ],
      "metadata": {
        "id": "88KC2XprDUFJ"
      },
      "execution_count": null,
      "outputs": []
    },
    {
      "cell_type": "code",
      "source": [
        "mean_absolute_error(Y_train, preds_train), mean_absolute_error(Y_test, preds_test)"
      ],
      "metadata": {
        "id": "htRdIdV4EYS3",
        "outputId": "5cc5160b-5f26-4058-81a0-3d33712d5d26",
        "colab": {
          "base_uri": "https://localhost:8080/"
        }
      },
      "execution_count": null,
      "outputs": [
        {
          "output_type": "execute_result",
          "data": {
            "text/plain": [
              "(4299.532866070816, 3912.4864174868003)"
            ]
          },
          "metadata": {},
          "execution_count": 118
        }
      ]
    },
    {
      "cell_type": "code",
      "source": [
        "np.sqrt(mean_squared_error(Y_train, preds_train)), np.sqrt(mean_squared_error(Y_test, preds_test))"
      ],
      "metadata": {
        "id": "3IzQWpRTEYzm",
        "outputId": "021cfdd6-4eb7-441a-d03e-ff3c340a834e",
        "colab": {
          "base_uri": "https://localhost:8080/"
        }
      },
      "execution_count": null,
      "outputs": [
        {
          "output_type": "execute_result",
          "data": {
            "text/plain": [
              "(6128.736082096302, 5742.505671152627)"
            ]
          },
          "metadata": {},
          "execution_count": 119
        }
      ]
    },
    {
      "cell_type": "code",
      "source": [
        "ridge_reg = Ridge(alpha=0.2,solver=\"cholesky\")\n",
        "\n",
        "X = final_df[features]\n",
        "Y = final_df['Charges']\n",
        "X_train, X_test, Y_train, Y_test = train_test_split(X, Y, test_size = 0.2, random_state = 1)\n",
        "scaler = StandardScaler()\n",
        "X_train_scaled = scaler.fit_transform(X_train)\n",
        "X_test_scaled = scaler.transform(X_test)\n",
        "ridge_reg.fit(X_train_scaled, Y_train)\n",
        "ridge_reg.coef_\n",
        "ridge_reg.intercept_\n",
        "preds_train = ridge_reg.predict(X_train_scaled)\n",
        "preds_test = ridge_reg.predict(X_test_scaled)"
      ],
      "metadata": {
        "id": "NLzZXMs5EoXE"
      },
      "execution_count": null,
      "outputs": []
    },
    {
      "cell_type": "code",
      "source": [
        "mean_absolute_error(Y_train, preds_train), mean_absolute_error(Y_test, preds_test)"
      ],
      "metadata": {
        "id": "XmHs2BkiEq4N",
        "outputId": "e8b29830-e16d-4bf6-e308-ed1a9c161d25",
        "colab": {
          "base_uri": "https://localhost:8080/"
        }
      },
      "execution_count": null,
      "outputs": [
        {
          "output_type": "execute_result",
          "data": {
            "text/plain": [
              "(4299.668402791632, 3912.5476838897544)"
            ]
          },
          "metadata": {},
          "execution_count": 121
        }
      ]
    },
    {
      "cell_type": "code",
      "source": [
        "np.sqrt(mean_squared_error(Y_train, preds_train)), np.sqrt(mean_squared_error(Y_test, preds_test))"
      ],
      "metadata": {
        "id": "4iJOLREQEsvz",
        "outputId": "7a9feb0a-f478-4df5-8ff0-d8f6ea9d0cb4",
        "colab": {
          "base_uri": "https://localhost:8080/"
        }
      },
      "execution_count": null,
      "outputs": [
        {
          "output_type": "execute_result",
          "data": {
            "text/plain": [
              "(6128.736326212157, 5742.474967530049)"
            ]
          },
          "metadata": {},
          "execution_count": 122
        }
      ]
    },
    {
      "cell_type": "code",
      "source": [
        "ridge_reg = Ridge(alpha=0.2,solver=\"cholesky\")\n",
        "\n",
        "X = final_df[features]\n",
        "Y = final_df['Charges']\n",
        "X_train, X_test, Y_train, Y_test = train_test_split(X, Y, test_size = 0.3, random_state = 1)\n",
        "scaler = StandardScaler()\n",
        "X_train_scaled = scaler.fit_transform(X_train)\n",
        "X_test_scaled = scaler.transform(X_test)\n",
        "ridge_reg.fit(X_train_scaled, Y_train)\n",
        "ridge_reg.coef_\n",
        "ridge_reg.intercept_\n",
        "preds_train = ridge_reg.predict(X_train_scaled)\n",
        "preds_test = ridge_reg.predict(X_test_scaled)"
      ],
      "metadata": {
        "id": "jUewVbu8Euiu"
      },
      "execution_count": null,
      "outputs": []
    },
    {
      "cell_type": "code",
      "source": [
        "mean_absolute_error(Y_train, preds_train), mean_absolute_error(Y_test, preds_test)"
      ],
      "metadata": {
        "id": "yP7BwlPvEwwy",
        "outputId": "4c95123b-1a6f-4eba-f52c-3bf5e2e147ac",
        "colab": {
          "base_uri": "https://localhost:8080/"
        }
      },
      "execution_count": null,
      "outputs": [
        {
          "output_type": "execute_result",
          "data": {
            "text/plain": [
              "(4248.785807516914, 4202.440160714766)"
            ]
          },
          "metadata": {},
          "execution_count": 124
        }
      ]
    },
    {
      "cell_type": "code",
      "source": [
        "np.sqrt(mean_squared_error(Y_train, preds_train)), np.sqrt(mean_squared_error(Y_test, preds_test))"
      ],
      "metadata": {
        "id": "ji2thyRtEyNt",
        "outputId": "fe4d6d13-7504-4587-b541-30ce1a860232",
        "colab": {
          "base_uri": "https://localhost:8080/"
        }
      },
      "execution_count": null,
      "outputs": [
        {
          "output_type": "execute_result",
          "data": {
            "text/plain": [
              "(6009.219845682146, 6155.81224269807)"
            ]
          },
          "metadata": {},
          "execution_count": 125
        }
      ]
    },
    {
      "cell_type": "markdown",
      "source": [
        "La regularización no mejora el modelo con ningún alfa"
      ],
      "metadata": {
        "id": "je6znqqtE4F4"
      }
    }
  ],
  "metadata": {
    "kernelspec": {
      "display_name": "Python 3 (ipykernel)",
      "language": "python",
      "name": "python3"
    },
    "language_info": {
      "codemirror_mode": {
        "name": "ipython",
        "version": 3
      },
      "file_extension": ".py",
      "mimetype": "text/x-python",
      "name": "python",
      "nbconvert_exporter": "python",
      "pygments_lexer": "ipython3",
      "version": "3.9.12"
    },
    "colab": {
      "provenance": [],
      "include_colab_link": true
    }
  },
  "nbformat": 4,
  "nbformat_minor": 0
}